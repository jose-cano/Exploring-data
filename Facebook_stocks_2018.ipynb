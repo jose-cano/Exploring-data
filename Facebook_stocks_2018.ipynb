{
  "nbformat": 4,
  "nbformat_minor": 0,
  "metadata": {
    "colab": {
      "name": "Facebook-stocks-2018.ipynb",
      "provenance": [],
      "collapsed_sections": [],
      "authorship_tag": "ABX9TyOJwQpI/v0SBtcidJWG72FJ",
      "include_colab_link": true
    },
    "kernelspec": {
      "name": "python3",
      "display_name": "Python 3"
    },
    "language_info": {
      "name": "python"
    }
  },
  "cells": [
    {
      "cell_type": "markdown",
      "metadata": {
        "id": "view-in-github",
        "colab_type": "text"
      },
      "source": [
        "<a href=\"https://colab.research.google.com/github/jose-cano/DataScience-Projects/blob/main/Facebook_stocks_2018.ipynb\" target=\"_parent\"><img src=\"https://colab.research.google.com/assets/colab-badge.svg\" alt=\"Open In Colab\"/></a>"
      ]
    },
    {
      "cell_type": "markdown",
      "metadata": {
        "id": "P5RIg8ArvL2F"
      },
      "source": [
        "# Analyzing Facebook stock price from 2018\n",
        "The goal of this project is to uncover and explore trends in the data and explain those trends.\n",
        "\n",
        "**Why data from 2018?**\n",
        "\n",
        "The year 2018 marked a difficult time for Facebook, and I would like to explore how this was reflected in the data."
      ]
    },
    {
      "cell_type": "code",
      "metadata": {
        "id": "iwTo32CPwy_D"
      },
      "source": [
        "%pip install yfinance"
      ],
      "execution_count": null,
      "outputs": []
    },
    {
      "cell_type": "code",
      "metadata": {
        "id": "PmIHjMwBvLe-"
      },
      "source": [
        "%matplotlib inline\n",
        "import yfinance as yf\n",
        "import pandas as pd\n",
        "import matplotlib.pyplot as plt"
      ],
      "execution_count": 49,
      "outputs": []
    },
    {
      "cell_type": "markdown",
      "metadata": {
        "id": "tKXhdK2y0aHU"
      },
      "source": [
        "# Extracting data from yFinance\n",
        "The yFinance package provides an easy way to get data in a clean format."
      ]
    },
    {
      "cell_type": "code",
      "metadata": {
        "colab": {
          "base_uri": "https://localhost:8080/"
        },
        "id": "XgX87wjovGm5",
        "outputId": "c6356af0-49e3-4039-a2af-8c3719e6d376"
      },
      "source": [
        "fb = yf.download(\"FB\", start=\"2018-01-01\", end=\"2018-12-31\")"
      ],
      "execution_count": 19,
      "outputs": [
        {
          "output_type": "stream",
          "name": "stdout",
          "text": [
            "\r[*********************100%***********************]  1 of 1 completed\n"
          ]
        }
      ]
    },
    {
      "cell_type": "markdown",
      "metadata": {
        "id": "YJm8Hn_r009X"
      },
      "source": [
        "# Finding outliers\n",
        "An outlier is an observation that lies well outside of the norm (extreme value). Statistician disagree on the exact definition, but a rule of thumb is that these values are three standard deviations away from the mean. Let's create a column with Z-score for the volumes traded in Facebook stock and find observations with Z-score greater than three in absolute value. A Z-Score is calculated by subtracting the mean from the observation, and then dividing by the standard deviation."
      ]
    },
    {
      "cell_type": "code",
      "metadata": {
        "colab": {
          "base_uri": "https://localhost:8080/",
          "height": 234
        },
        "id": "JOQMu3Fm00o-",
        "outputId": "383143b4-94cf-4f4d-c230-a4d7a1011816"
      },
      "source": [
        "fb.assign(\n",
        "    abs_z_score_volume=lambda x: x.Volume.sub(x.Volume.mean()).div(x.Volume.std()).abs(),\n",
        "    day_of_week=lambda x: x.index.day_name()\n",
        ").query('abs_z_score_volume > 3')"
      ],
      "execution_count": 33,
      "outputs": [
        {
          "output_type": "execute_result",
          "data": {
            "text/html": [
              "<div>\n",
              "<style scoped>\n",
              "    .dataframe tbody tr th:only-of-type {\n",
              "        vertical-align: middle;\n",
              "    }\n",
              "\n",
              "    .dataframe tbody tr th {\n",
              "        vertical-align: top;\n",
              "    }\n",
              "\n",
              "    .dataframe thead th {\n",
              "        text-align: right;\n",
              "    }\n",
              "</style>\n",
              "<table border=\"1\" class=\"dataframe\">\n",
              "  <thead>\n",
              "    <tr style=\"text-align: right;\">\n",
              "      <th></th>\n",
              "      <th>Open</th>\n",
              "      <th>High</th>\n",
              "      <th>Low</th>\n",
              "      <th>Close</th>\n",
              "      <th>Adj Close</th>\n",
              "      <th>Volume</th>\n",
              "      <th>abs_z_score_volume</th>\n",
              "      <th>day_of_week</th>\n",
              "    </tr>\n",
              "    <tr>\n",
              "      <th>Date</th>\n",
              "      <th></th>\n",
              "      <th></th>\n",
              "      <th></th>\n",
              "      <th></th>\n",
              "      <th></th>\n",
              "      <th></th>\n",
              "      <th></th>\n",
              "      <th></th>\n",
              "    </tr>\n",
              "  </thead>\n",
              "  <tbody>\n",
              "    <tr>\n",
              "      <th>2018-03-19</th>\n",
              "      <td>177.009995</td>\n",
              "      <td>177.169998</td>\n",
              "      <td>170.059998</td>\n",
              "      <td>172.559998</td>\n",
              "      <td>172.559998</td>\n",
              "      <td>88140100</td>\n",
              "      <td>3.147310</td>\n",
              "      <td>Monday</td>\n",
              "    </tr>\n",
              "    <tr>\n",
              "      <th>2018-03-20</th>\n",
              "      <td>167.470001</td>\n",
              "      <td>170.199997</td>\n",
              "      <td>161.949997</td>\n",
              "      <td>168.149994</td>\n",
              "      <td>168.149994</td>\n",
              "      <td>129851800</td>\n",
              "      <td>5.318321</td>\n",
              "      <td>Tuesday</td>\n",
              "    </tr>\n",
              "    <tr>\n",
              "      <th>2018-03-21</th>\n",
              "      <td>164.800003</td>\n",
              "      <td>173.399994</td>\n",
              "      <td>163.300003</td>\n",
              "      <td>169.389999</td>\n",
              "      <td>169.389999</td>\n",
              "      <td>106598800</td>\n",
              "      <td>4.108048</td>\n",
              "      <td>Wednesday</td>\n",
              "    </tr>\n",
              "    <tr>\n",
              "      <th>2018-03-26</th>\n",
              "      <td>160.820007</td>\n",
              "      <td>161.100006</td>\n",
              "      <td>149.020004</td>\n",
              "      <td>160.059998</td>\n",
              "      <td>160.059998</td>\n",
              "      <td>126116600</td>\n",
              "      <td>5.123911</td>\n",
              "      <td>Monday</td>\n",
              "    </tr>\n",
              "    <tr>\n",
              "      <th>2018-07-26</th>\n",
              "      <td>174.889999</td>\n",
              "      <td>180.130005</td>\n",
              "      <td>173.750000</td>\n",
              "      <td>176.259995</td>\n",
              "      <td>176.259995</td>\n",
              "      <td>169803700</td>\n",
              "      <td>7.397737</td>\n",
              "      <td>Thursday</td>\n",
              "    </tr>\n",
              "  </tbody>\n",
              "</table>\n",
              "</div>"
            ],
            "text/plain": [
              "                  Open        High  ...  abs_z_score_volume  day_of_week\n",
              "Date                                ...                                 \n",
              "2018-03-19  177.009995  177.169998  ...            3.147310       Monday\n",
              "2018-03-20  167.470001  170.199997  ...            5.318321      Tuesday\n",
              "2018-03-21  164.800003  173.399994  ...            4.108048    Wednesday\n",
              "2018-03-26  160.820007  161.100006  ...            5.123911       Monday\n",
              "2018-07-26  174.889999  180.130005  ...            7.397737     Thursday\n",
              "\n",
              "[5 rows x 8 columns]"
            ]
          },
          "metadata": {},
          "execution_count": 33
        }
      ]
    },
    {
      "cell_type": "code",
      "metadata": {
        "colab": {
          "base_uri": "https://localhost:8080/",
          "height": 142
        },
        "id": "8aK5SiWLKt8O",
        "outputId": "5fdcf74f-a446-4ff5-8823-a13657636fc0"
      },
      "source": [
        "fb['2018-07-25':'2018-07-26']"
      ],
      "execution_count": 30,
      "outputs": [
        {
          "output_type": "execute_result",
          "data": {
            "text/html": [
              "<div>\n",
              "<style scoped>\n",
              "    .dataframe tbody tr th:only-of-type {\n",
              "        vertical-align: middle;\n",
              "    }\n",
              "\n",
              "    .dataframe tbody tr th {\n",
              "        vertical-align: top;\n",
              "    }\n",
              "\n",
              "    .dataframe thead th {\n",
              "        text-align: right;\n",
              "    }\n",
              "</style>\n",
              "<table border=\"1\" class=\"dataframe\">\n",
              "  <thead>\n",
              "    <tr style=\"text-align: right;\">\n",
              "      <th></th>\n",
              "      <th>Open</th>\n",
              "      <th>High</th>\n",
              "      <th>Low</th>\n",
              "      <th>Close</th>\n",
              "      <th>Adj Close</th>\n",
              "      <th>Volume</th>\n",
              "    </tr>\n",
              "    <tr>\n",
              "      <th>Date</th>\n",
              "      <th></th>\n",
              "      <th></th>\n",
              "      <th></th>\n",
              "      <th></th>\n",
              "      <th></th>\n",
              "      <th></th>\n",
              "    </tr>\n",
              "  </thead>\n",
              "  <tbody>\n",
              "    <tr>\n",
              "      <th>2018-07-25</th>\n",
              "      <td>215.720001</td>\n",
              "      <td>218.619995</td>\n",
              "      <td>214.270004</td>\n",
              "      <td>217.500000</td>\n",
              "      <td>217.500000</td>\n",
              "      <td>58954200</td>\n",
              "    </tr>\n",
              "    <tr>\n",
              "      <th>2018-07-26</th>\n",
              "      <td>174.889999</td>\n",
              "      <td>180.130005</td>\n",
              "      <td>173.750000</td>\n",
              "      <td>176.259995</td>\n",
              "      <td>176.259995</td>\n",
              "      <td>169803700</td>\n",
              "    </tr>\n",
              "  </tbody>\n",
              "</table>\n",
              "</div>"
            ],
            "text/plain": [
              "                  Open        High  ...   Adj Close     Volume\n",
              "Date                                ...                       \n",
              "2018-07-25  215.720001  218.619995  ...  217.500000   58954200\n",
              "2018-07-26  174.889999  180.130005  ...  176.259995  169803700\n",
              "\n",
              "[2 rows x 6 columns]"
            ]
          },
          "metadata": {},
          "execution_count": 30
        }
      ]
    },
    {
      "cell_type": "markdown",
      "metadata": {
        "id": "ukx3k1smIYF_"
      },
      "source": [
        "July 26, 2018 marks the highest volume traded for the year. On July 25, 2018 Facebook announced that the company missed projections on key metrics after struggling with data leaks and fake news scandals. The news was followed by after-hours selling and when the market reopened the next morning, the stock had dropped from \\$217.50 at close on the 25th to \\$174.89 at \n",
        "market open on the 26th. All of this resulted in a loss of about $120 billion.\n",
        "\n",
        "https://www.marketwatch.com/story/facebook-stock-crushed-after-revenue-user-growth-miss-2018-07-25"
      ]
    },
    {
      "cell_type": "markdown",
      "metadata": {
        "id": "ZbwkrJ_Q6XH2"
      },
      "source": [
        "Let's also explore which days had the largest percentage change in volume traded relative to the day prior. We might want to explore those dates to see if something happened that prompted such a change."
      ]
    },
    {
      "cell_type": "code",
      "metadata": {
        "colab": {
          "base_uri": "https://localhost:8080/",
          "height": 234
        },
        "id": "-q38zYO46Wjq",
        "outputId": "20964d6e-85c2-4999-ea0e-430603dccd9a"
      },
      "source": [
        "fb.assign(\n",
        "    volume_pct_change=fb.Volume.pct_change(),\n",
        "    pct_change_rank=lambda x: x.volume_pct_change.abs().rank(ascending=False),\n",
        "    day_of_week=lambda x: x.index.day_name()\n",
        ").nsmallest(5, 'pct_change_rank')"
      ],
      "execution_count": 32,
      "outputs": [
        {
          "output_type": "execute_result",
          "data": {
            "text/html": [
              "<div>\n",
              "<style scoped>\n",
              "    .dataframe tbody tr th:only-of-type {\n",
              "        vertical-align: middle;\n",
              "    }\n",
              "\n",
              "    .dataframe tbody tr th {\n",
              "        vertical-align: top;\n",
              "    }\n",
              "\n",
              "    .dataframe thead th {\n",
              "        text-align: right;\n",
              "    }\n",
              "</style>\n",
              "<table border=\"1\" class=\"dataframe\">\n",
              "  <thead>\n",
              "    <tr style=\"text-align: right;\">\n",
              "      <th></th>\n",
              "      <th>Open</th>\n",
              "      <th>High</th>\n",
              "      <th>Low</th>\n",
              "      <th>Close</th>\n",
              "      <th>Adj Close</th>\n",
              "      <th>Volume</th>\n",
              "      <th>volume_pct_change</th>\n",
              "      <th>pct_change_rank</th>\n",
              "      <th>day_of_week</th>\n",
              "    </tr>\n",
              "    <tr>\n",
              "      <th>Date</th>\n",
              "      <th></th>\n",
              "      <th></th>\n",
              "      <th></th>\n",
              "      <th></th>\n",
              "      <th></th>\n",
              "      <th></th>\n",
              "      <th></th>\n",
              "      <th></th>\n",
              "      <th></th>\n",
              "    </tr>\n",
              "  </thead>\n",
              "  <tbody>\n",
              "    <tr>\n",
              "      <th>2018-01-12</th>\n",
              "      <td>178.059998</td>\n",
              "      <td>181.479996</td>\n",
              "      <td>177.399994</td>\n",
              "      <td>179.369995</td>\n",
              "      <td>179.369995</td>\n",
              "      <td>77551300</td>\n",
              "      <td>7.087865</td>\n",
              "      <td>1.0</td>\n",
              "      <td>Friday</td>\n",
              "    </tr>\n",
              "    <tr>\n",
              "      <th>2018-03-19</th>\n",
              "      <td>177.009995</td>\n",
              "      <td>177.169998</td>\n",
              "      <td>170.059998</td>\n",
              "      <td>172.559998</td>\n",
              "      <td>172.559998</td>\n",
              "      <td>88140100</td>\n",
              "      <td>2.611796</td>\n",
              "      <td>2.0</td>\n",
              "      <td>Monday</td>\n",
              "    </tr>\n",
              "    <tr>\n",
              "      <th>2018-07-26</th>\n",
              "      <td>174.889999</td>\n",
              "      <td>180.130005</td>\n",
              "      <td>173.750000</td>\n",
              "      <td>176.259995</td>\n",
              "      <td>176.259995</td>\n",
              "      <td>169803700</td>\n",
              "      <td>1.880265</td>\n",
              "      <td>3.0</td>\n",
              "      <td>Thursday</td>\n",
              "    </tr>\n",
              "    <tr>\n",
              "      <th>2018-09-21</th>\n",
              "      <td>166.639999</td>\n",
              "      <td>167.250000</td>\n",
              "      <td>162.809998</td>\n",
              "      <td>162.929993</td>\n",
              "      <td>162.929993</td>\n",
              "      <td>45994800</td>\n",
              "      <td>1.428961</td>\n",
              "      <td>4.0</td>\n",
              "      <td>Friday</td>\n",
              "    </tr>\n",
              "    <tr>\n",
              "      <th>2018-03-26</th>\n",
              "      <td>160.820007</td>\n",
              "      <td>161.100006</td>\n",
              "      <td>149.020004</td>\n",
              "      <td>160.059998</td>\n",
              "      <td>160.059998</td>\n",
              "      <td>126116600</td>\n",
              "      <td>1.352496</td>\n",
              "      <td>5.0</td>\n",
              "      <td>Monday</td>\n",
              "    </tr>\n",
              "  </tbody>\n",
              "</table>\n",
              "</div>"
            ],
            "text/plain": [
              "                  Open        High  ...  pct_change_rank  day_of_week\n",
              "Date                                ...                              \n",
              "2018-01-12  178.059998  181.479996  ...              1.0       Friday\n",
              "2018-03-19  177.009995  177.169998  ...              2.0       Monday\n",
              "2018-07-26  174.889999  180.130005  ...              3.0     Thursday\n",
              "2018-09-21  166.639999  167.250000  ...              4.0       Friday\n",
              "2018-03-26  160.820007  161.100006  ...              5.0       Monday\n",
              "\n",
              "[5 rows x 9 columns]"
            ]
          },
          "metadata": {},
          "execution_count": 32
        }
      ]
    },
    {
      "cell_type": "code",
      "metadata": {
        "id": "PN-gCPs28bOO",
        "colab": {
          "base_uri": "https://localhost:8080/",
          "height": 142
        },
        "outputId": "dfba9417-2f91-4ae0-ec10-21edcac71836"
      },
      "source": [
        " fb['2018-01-11':'2018-01-12']"
      ],
      "execution_count": 26,
      "outputs": [
        {
          "output_type": "execute_result",
          "data": {
            "text/html": [
              "<div>\n",
              "<style scoped>\n",
              "    .dataframe tbody tr th:only-of-type {\n",
              "        vertical-align: middle;\n",
              "    }\n",
              "\n",
              "    .dataframe tbody tr th {\n",
              "        vertical-align: top;\n",
              "    }\n",
              "\n",
              "    .dataframe thead th {\n",
              "        text-align: right;\n",
              "    }\n",
              "</style>\n",
              "<table border=\"1\" class=\"dataframe\">\n",
              "  <thead>\n",
              "    <tr style=\"text-align: right;\">\n",
              "      <th></th>\n",
              "      <th>Open</th>\n",
              "      <th>High</th>\n",
              "      <th>Low</th>\n",
              "      <th>Close</th>\n",
              "      <th>Adj Close</th>\n",
              "      <th>Volume</th>\n",
              "    </tr>\n",
              "    <tr>\n",
              "      <th>Date</th>\n",
              "      <th></th>\n",
              "      <th></th>\n",
              "      <th></th>\n",
              "      <th></th>\n",
              "      <th></th>\n",
              "      <th></th>\n",
              "    </tr>\n",
              "  </thead>\n",
              "  <tbody>\n",
              "    <tr>\n",
              "      <th>2018-01-11</th>\n",
              "      <td>188.399994</td>\n",
              "      <td>188.399994</td>\n",
              "      <td>187.380005</td>\n",
              "      <td>187.770004</td>\n",
              "      <td>187.770004</td>\n",
              "      <td>9588600</td>\n",
              "    </tr>\n",
              "    <tr>\n",
              "      <th>2018-01-12</th>\n",
              "      <td>178.059998</td>\n",
              "      <td>181.479996</td>\n",
              "      <td>177.399994</td>\n",
              "      <td>179.369995</td>\n",
              "      <td>179.369995</td>\n",
              "      <td>77551300</td>\n",
              "    </tr>\n",
              "  </tbody>\n",
              "</table>\n",
              "</div>"
            ],
            "text/plain": [
              "                  Open        High  ...   Adj Close    Volume\n",
              "Date                                ...                      \n",
              "2018-01-11  188.399994  188.399994  ...  187.770004   9588600\n",
              "2018-01-12  178.059998  181.479996  ...  179.369995  77551300\n",
              "\n",
              "[2 rows x 6 columns]"
            ]
          },
          "metadata": {},
          "execution_count": 26
        }
      ]
    },
    {
      "cell_type": "markdown",
      "metadata": {
        "id": "uJF8FRAk8gVb"
      },
      "source": [
        "The number 1 ranked day for percentage change in volume traded is January 12, 2018. This happened when Facebook announced changes to the news feed to prioritize content from a users friends over brands they follow. Because a large amount of Facebooks revenue comes from advertising, many people decided to sell stocks and this increades the volume traded.\n",
        "\n",
        "https://www.cnbc.com/2018/11/20/facebooks-scandals-in-2018-effect-on-stock.html\n",
        "\n",
        "https://www.investopedia.com/ask/answers/120114/how-does-facebook-fb-make-money.asp"
      ]
    },
    {
      "cell_type": "code",
      "metadata": {
        "colab": {
          "base_uri": "https://localhost:8080/",
          "height": 388
        },
        "id": "IYiENCToL6dv",
        "outputId": "d23319eb-317b-4efb-ac2c-3637d54ccaba"
      },
      "source": [
        "fb['2018-03-16':'2018-03-29'].assign(\n",
        "    day_of_week=lambda x: x.index.day_name()\n",
        ")"
      ],
      "execution_count": 40,
      "outputs": [
        {
          "output_type": "execute_result",
          "data": {
            "text/html": [
              "<div>\n",
              "<style scoped>\n",
              "    .dataframe tbody tr th:only-of-type {\n",
              "        vertical-align: middle;\n",
              "    }\n",
              "\n",
              "    .dataframe tbody tr th {\n",
              "        vertical-align: top;\n",
              "    }\n",
              "\n",
              "    .dataframe thead th {\n",
              "        text-align: right;\n",
              "    }\n",
              "</style>\n",
              "<table border=\"1\" class=\"dataframe\">\n",
              "  <thead>\n",
              "    <tr style=\"text-align: right;\">\n",
              "      <th></th>\n",
              "      <th>Open</th>\n",
              "      <th>High</th>\n",
              "      <th>Low</th>\n",
              "      <th>Close</th>\n",
              "      <th>Adj Close</th>\n",
              "      <th>Volume</th>\n",
              "      <th>day_of_week</th>\n",
              "    </tr>\n",
              "    <tr>\n",
              "      <th>Date</th>\n",
              "      <th></th>\n",
              "      <th></th>\n",
              "      <th></th>\n",
              "      <th></th>\n",
              "      <th></th>\n",
              "      <th></th>\n",
              "      <th></th>\n",
              "    </tr>\n",
              "  </thead>\n",
              "  <tbody>\n",
              "    <tr>\n",
              "      <th>2018-03-16</th>\n",
              "      <td>184.490005</td>\n",
              "      <td>185.330002</td>\n",
              "      <td>183.410004</td>\n",
              "      <td>185.089996</td>\n",
              "      <td>185.089996</td>\n",
              "      <td>24403400</td>\n",
              "      <td>Friday</td>\n",
              "    </tr>\n",
              "    <tr>\n",
              "      <th>2018-03-19</th>\n",
              "      <td>177.009995</td>\n",
              "      <td>177.169998</td>\n",
              "      <td>170.059998</td>\n",
              "      <td>172.559998</td>\n",
              "      <td>172.559998</td>\n",
              "      <td>88140100</td>\n",
              "      <td>Monday</td>\n",
              "    </tr>\n",
              "    <tr>\n",
              "      <th>2018-03-20</th>\n",
              "      <td>167.470001</td>\n",
              "      <td>170.199997</td>\n",
              "      <td>161.949997</td>\n",
              "      <td>168.149994</td>\n",
              "      <td>168.149994</td>\n",
              "      <td>129851800</td>\n",
              "      <td>Tuesday</td>\n",
              "    </tr>\n",
              "    <tr>\n",
              "      <th>2018-03-21</th>\n",
              "      <td>164.800003</td>\n",
              "      <td>173.399994</td>\n",
              "      <td>163.300003</td>\n",
              "      <td>169.389999</td>\n",
              "      <td>169.389999</td>\n",
              "      <td>106598800</td>\n",
              "      <td>Wednesday</td>\n",
              "    </tr>\n",
              "    <tr>\n",
              "      <th>2018-03-22</th>\n",
              "      <td>166.130005</td>\n",
              "      <td>170.270004</td>\n",
              "      <td>163.720001</td>\n",
              "      <td>164.889999</td>\n",
              "      <td>164.889999</td>\n",
              "      <td>73743000</td>\n",
              "      <td>Thursday</td>\n",
              "    </tr>\n",
              "    <tr>\n",
              "      <th>2018-03-23</th>\n",
              "      <td>165.440002</td>\n",
              "      <td>166.600006</td>\n",
              "      <td>159.020004</td>\n",
              "      <td>159.389999</td>\n",
              "      <td>159.389999</td>\n",
              "      <td>53609700</td>\n",
              "      <td>Friday</td>\n",
              "    </tr>\n",
              "    <tr>\n",
              "      <th>2018-03-26</th>\n",
              "      <td>160.820007</td>\n",
              "      <td>161.100006</td>\n",
              "      <td>149.020004</td>\n",
              "      <td>160.059998</td>\n",
              "      <td>160.059998</td>\n",
              "      <td>126116600</td>\n",
              "      <td>Monday</td>\n",
              "    </tr>\n",
              "    <tr>\n",
              "      <th>2018-03-27</th>\n",
              "      <td>156.309998</td>\n",
              "      <td>162.850006</td>\n",
              "      <td>150.750000</td>\n",
              "      <td>152.220001</td>\n",
              "      <td>152.220001</td>\n",
              "      <td>79117000</td>\n",
              "      <td>Tuesday</td>\n",
              "    </tr>\n",
              "    <tr>\n",
              "      <th>2018-03-28</th>\n",
              "      <td>151.649994</td>\n",
              "      <td>155.880005</td>\n",
              "      <td>150.800003</td>\n",
              "      <td>153.029999</td>\n",
              "      <td>153.029999</td>\n",
              "      <td>60029200</td>\n",
              "      <td>Wednesday</td>\n",
              "    </tr>\n",
              "    <tr>\n",
              "      <th>2018-03-29</th>\n",
              "      <td>155.149994</td>\n",
              "      <td>161.419998</td>\n",
              "      <td>154.139999</td>\n",
              "      <td>159.789993</td>\n",
              "      <td>159.789993</td>\n",
              "      <td>59434300</td>\n",
              "      <td>Thursday</td>\n",
              "    </tr>\n",
              "  </tbody>\n",
              "</table>\n",
              "</div>"
            ],
            "text/plain": [
              "                  Open        High  ...     Volume  day_of_week\n",
              "Date                                ...                        \n",
              "2018-03-16  184.490005  185.330002  ...   24403400       Friday\n",
              "2018-03-19  177.009995  177.169998  ...   88140100       Monday\n",
              "2018-03-20  167.470001  170.199997  ...  129851800      Tuesday\n",
              "2018-03-21  164.800003  173.399994  ...  106598800    Wednesday\n",
              "2018-03-22  166.130005  170.270004  ...   73743000     Thursday\n",
              "2018-03-23  165.440002  166.600006  ...   53609700       Friday\n",
              "2018-03-26  160.820007  161.100006  ...  126116600       Monday\n",
              "2018-03-27  156.309998  162.850006  ...   79117000      Tuesday\n",
              "2018-03-28  151.649994  155.880005  ...   60029200    Wednesday\n",
              "2018-03-29  155.149994  161.419998  ...   59434300     Thursday\n",
              "\n",
              "[10 rows x 7 columns]"
            ]
          },
          "metadata": {},
          "execution_count": 40
        }
      ]
    },
    {
      "cell_type": "markdown",
      "metadata": {
        "id": "ob6YJmzNMD5Z"
      },
      "source": [
        "The Cambridge Analytica political data privacy issue happened on Saturday, \n",
        "March 17, 2018. Trading with this information began Monday 19th. Then in March 26, the FTC began an investigation into the Cambridge Analytica situation.\n",
        "\n",
        "https://www.nytimes.com/2018/03/19/technology/facebook-cambridge-analytica-explained.html\n",
        "\n",
        "https://www.cnbc.com/2018/03/26/ftc-confirms-facebook-data-breach-investigation.html"
      ]
    },
    {
      "cell_type": "markdown",
      "metadata": {
        "id": "fETJ26B5GkB6"
      },
      "source": [
        "# Binning\n",
        "If we are interested in seeing the days that had high volume of trade, categorizing the values of volume traded into bins can be more convenient than working with the distinct values. We can see that in the data, no two days had the same volume traded (shown below). If we created equally spaced bins, the days that had large trading volume would cause the bin width to be large, causing an imbalance of days per bin. Creating bins based on quantiles might be better for this situation."
      ]
    },
    {
      "cell_type": "code",
      "metadata": {
        "colab": {
          "base_uri": "https://localhost:8080/"
        },
        "id": "W7ooT41IHu4I",
        "outputId": "86a686ba-1379-4d03-ed6d-c39738a0d4ef"
      },
      "source": [
        "(fb.Volume.value_counts() > 1).sum()"
      ],
      "execution_count": 28,
      "outputs": [
        {
          "output_type": "execute_result",
          "data": {
            "text/plain": [
              "0"
            ]
          },
          "metadata": {},
          "execution_count": 28
        }
      ]
    },
    {
      "cell_type": "code",
      "metadata": {
        "colab": {
          "base_uri": "https://localhost:8080/"
        },
        "id": "ANBlCLVLSJa9",
        "outputId": "aae034de-eccf-4a9d-beb4-ef414f092f1f"
      },
      "source": [
        "volume_qbins = pd.qcut(\n",
        "    fb.Volume, q=4, labels=[\"q1\", \"q2\", \"q3\", \"q4\"]\n",
        ")\n",
        "volume_qbins.value_counts()"
      ],
      "execution_count": 43,
      "outputs": [
        {
          "output_type": "execute_result",
          "data": {
            "text/plain": [
              "q4    63\n",
              "q1    63\n",
              "q3    62\n",
              "q2    62\n",
              "Name: Volume, dtype: int64"
            ]
          },
          "metadata": {},
          "execution_count": 43
        }
      ]
    },
    {
      "cell_type": "code",
      "metadata": {
        "colab": {
          "base_uri": "https://localhost:8080/",
          "height": 587
        },
        "id": "gj1K0hVVSyJd",
        "outputId": "091a9446-a8bc-4d26-89eb-4c222989d383"
      },
      "source": [
        "fb['quartile'] = pd.qcut(\n",
        "    fb.Volume, q=4, labels=[\"q1\", \"q2\", \"q3\", \"q4\"]\n",
        ")\n",
        "q1 = fb[fb[\"quartile\"] == \"q1\"].nsmallest(1, \"Volume\")[\"Volume\"][0]\n",
        "q2 = fb[fb[\"quartile\"] == \"q2\"].nsmallest(1, \"Volume\")[\"Volume\"][0]\n",
        "q3 = fb[fb[\"quartile\"] == \"q3\"].nsmallest(1, \"Volume\")[\"Volume\"][0]\n",
        "q4 = fb[fb[\"quartile\"] == \"q4\"].nsmallest(1, \"Volume\")[\"Volume\"][0]\n",
        "\n",
        "fb.Volume.plot(figsize=[10, 10])\n",
        "plt.axhline(\n",
        "    y=q1, color='black', linestyle='--', label=\"Q1\"\n",
        ")\n",
        "plt.axhline(\n",
        "    y=q2, color='g', linestyle='--', label=\"Q2\"\n",
        ")\n",
        "plt.axhline(\n",
        "    y=q3, color='y', linestyle='--', label=\"Q3\"\n",
        ")\n",
        "plt.axhline(\n",
        "    y=q4, color='r', linestyle='--'\n",
        ")\n",
        "plt.title(\"Facebook stock daily volume traded for 2018 (with quartile bins)\")\n",
        "plt.ylabel(\"Volume traded\")\n",
        "plt.legend()\n",
        "plt.show()"
      ],
      "execution_count": 108,
      "outputs": [
        {
          "output_type": "display_data",
          "data": {
            "image/png": "[encoded data removed]",
            "text/plain": [
              "<Figure size 720x720 with 1 Axes>"
            ]
          },
          "metadata": {
            "needs_background": "light"
          }
        }
      ]
    }
  ]
}